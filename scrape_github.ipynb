{
 "cells": [
  {
   "cell_type": "code",
   "execution_count": null,
   "id": "6feedd0b",
   "metadata": {},
   "outputs": [],
   "source": [
    "import requests\n",
    "from bs4 import BeautifulSoup\n",
    "import pandas as pd"
   ]
  },
  {
   "cell_type": "code",
   "execution_count": null,
   "id": "182f83f1",
   "metadata": {},
   "outputs": [],
   "source": [
    "url = requests.get('https://github.com/topics')"
   ]
  },
  {
   "cell_type": "code",
   "execution_count": null,
   "id": "dc05c478",
   "metadata": {},
   "outputs": [],
   "source": [
    "len(url.text)"
   ]
  },
  {
   "cell_type": "code",
   "execution_count": null,
   "id": "cbb6e2e0",
   "metadata": {},
   "outputs": [],
   "source": [
    "github_doc = BeautifulSoup(url.text,'html.parser')"
   ]
  },
  {
   "cell_type": "code",
   "execution_count": null,
   "id": "574b2a1d",
   "metadata": {},
   "outputs": [],
   "source": [
    "type(github_doc)"
   ]
  },
  {
   "cell_type": "code",
   "execution_count": null,
   "id": "f83c4ac1",
   "metadata": {},
   "outputs": [],
   "source": [
    "topics = github_doc.find_all('p',class_ =\"f3 lh-condensed mb-0 mt-1 Link--primary\")\n",
    "len(topics)"
   ]
  },
  {
   "cell_type": "code",
   "execution_count": null,
   "id": "cd3bb79f",
   "metadata": {},
   "outputs": [],
   "source": [
    "topic_descr = github_doc.find_all('p',class_='f5 color-fg-muted mb-0 mt-1')\n",
    "len(topic_descr)"
   ]
  },
  {
   "cell_type": "code",
   "execution_count": null,
   "id": "7dcfdaa7",
   "metadata": {},
   "outputs": [],
   "source": [
    "topic_links = github_doc.find_all('a',class_=\"no-underline flex-1 d-flex flex-column\")\n",
    "len(topic_links)"
   ]
  },
  {
   "cell_type": "code",
   "execution_count": null,
   "id": "69357d61",
   "metadata": {},
   "outputs": [],
   "source": [
    "topic_title = []\n",
    "\n",
    "for topic_name in topics:\n",
    "    topic_title.append(topic_name.text)\n",
    "\n",
    "print(topic_title)"
   ]
  },
  {
   "cell_type": "code",
   "execution_count": null,
   "id": "43891dc5",
   "metadata": {},
   "outputs": [],
   "source": [
    "topic_title_descr = []\n",
    "\n",
    "for title_descr in topic_descr:\n",
    "    topic_title_descr.append(title_descr.text.strip())\n",
    "\n",
    "print(topic_title_descr)"
   ]
  },
  {
   "cell_type": "code",
   "execution_count": null,
   "id": "dcf2c90e",
   "metadata": {},
   "outputs": [],
   "source": [
    "topic_title_url = []\n",
    "base_url = \"https://github.com\"\n",
    "\n",
    "for topic_url in topic_links:\n",
    "    topic_title_url.append(base_url + topic_url['href'])\n",
    "\n",
    "topic_title_url"
   ]
  },
  {
   "cell_type": "code",
   "execution_count": null,
   "id": "cbdef33d",
   "metadata": {},
   "outputs": [],
   "source": [
    "topic_dict = {'Title': topic_title,\n",
    "       'Description': topic_title_descr,\n",
    "       'URL': topic_title_url}"
   ]
  },
  {
   "cell_type": "code",
   "execution_count": null,
   "id": "4c63cd6a",
   "metadata": {},
   "outputs": [],
   "source": [
    "data_github = pd.DataFrame(topic_dict)\n",
    "data_github"
   ]
  },
  {
   "cell_type": "code",
   "execution_count": null,
   "id": "e749d017",
   "metadata": {},
   "outputs": [],
   "source": [
    "data_github.to_csv('Github_repo.csv')"
   ]
  },
  {
   "cell_type": "code",
   "execution_count": null,
   "id": "d075b943",
   "metadata": {},
   "outputs": [],
   "source": [
    "page = topic_title_url[0]\n",
    "page"
   ]
  },
  {
   "cell_type": "code",
   "execution_count": null,
   "id": "be84025e",
   "metadata": {},
   "outputs": [],
   "source": [
    "topic_page = requests.get(page) \n",
    "topic_page.status_code"
   ]
  },
  {
   "cell_type": "code",
   "execution_count": null,
   "id": "2f5d0a34",
   "metadata": {},
   "outputs": [],
   "source": [
    "topic_page_doc = BeautifulSoup(topic_page.text,'html.parser')\n"
   ]
  },
  {
   "cell_type": "code",
   "execution_count": null,
   "id": "32e133af",
   "metadata": {},
   "outputs": [],
   "source": [
    "repo_link = topic_page_doc.find_all('h3',class_='f3 color-fg-muted text-normal lh-condensed')\n"
   ]
  },
  {
   "cell_type": "code",
   "execution_count": null,
   "id": "6339d200",
   "metadata": {},
   "outputs": [],
   "source": [
    "repo_name_tags = repo_link[0].find_all('a')\n"
   ]
  },
  {
   "cell_type": "code",
   "execution_count": null,
   "id": "0d6fb087",
   "metadata": {},
   "outputs": [],
   "source": [
    "repo_name_tags[0].text.strip()"
   ]
  },
  {
   "cell_type": "code",
   "execution_count": null,
   "id": "61a3a31c",
   "metadata": {},
   "outputs": [],
   "source": [
    "repo_name_tags[1].text.strip()"
   ]
  },
  {
   "cell_type": "code",
   "execution_count": null,
   "id": "ce844a4d",
   "metadata": {},
   "outputs": [],
   "source": [
    "repo_url = base_url + repo_name_tags[1]['href']\n",
    "print(repo_url)"
   ]
  },
  {
   "cell_type": "code",
   "execution_count": null,
   "id": "2c0b3f01",
   "metadata": {},
   "outputs": [],
   "source": [
    "stars_tag = topic_page_doc.find_all('span',class_=\"Counter js-social-count\")\n",
    "len(stars_tag)"
   ]
  },
  {
   "cell_type": "code",
   "execution_count": null,
   "id": "48f9caff",
   "metadata": {},
   "outputs": [],
   "source": [
    "rating = []\n",
    "\n",
    "for rate in stars_tag:\n",
    "    rating.append(rate.text)\n",
    "\n",
    "print(rating)"
   ]
  },
  {
   "cell_type": "code",
   "execution_count": null,
   "id": "28500a6e",
   "metadata": {},
   "outputs": [],
   "source": [
    "def repo_name_link(h3_tag):\n",
    "    name_tags = h3_tag.find_all('a')\n",
    "    username = repo_name_tags[0].text.strip()\n",
    "    repo_name = repo_name_tags[1].text.strip()\n",
    "    repo_url = base_url + repo_name_tags[1]['href']\n",
    "    return username, repo_name,  repo_url"
   ]
  },
  {
   "cell_type": "code",
   "execution_count": null,
   "id": "60d63b41",
   "metadata": {},
   "outputs": [],
   "source": [
    "repo_name_link(repo_tags[1])"
   ]
  },
  {
   "cell_type": "code",
   "execution_count": null,
   "id": "db69b38b",
   "metadata": {},
   "outputs": [],
   "source": [
    "repo_dict = {\n",
    "    'Username': [],\n",
    "    'Repository Name':[],\n",
    "    'Repository URL':[]\n",
    "    \n",
    "}\n"
   ]
  },
  {
   "cell_type": "code",
   "execution_count": null,
   "id": "9a141092",
   "metadata": {},
   "outputs": [],
   "source": [
    "for i in range(len(repo_tags)):\n",
    "    info_repo = repo_name_link(repo_tags[i])\n",
    "    repo_dict['Username'].append(info_repo[0])\n",
    "    repo_dict['Repository Name'].append(info_repo[1])\n",
    "    repo_dict['Repository URL'].append(info_repo[2])\n",
    "    \n",
    "\n"
   ]
  },
  {
   "cell_type": "code",
   "execution_count": null,
   "id": "9d2bbf68",
   "metadata": {},
   "outputs": [],
   "source": []
  }
 ],
 "metadata": {
  "kernelspec": {
   "display_name": "Python 3",
   "language": "python",
   "name": "python3"
  },
  "language_info": {
   "codemirror_mode": {
    "name": "ipython",
    "version": 3
   },
   "file_extension": ".py",
   "mimetype": "text/x-python",
   "name": "python",
   "nbconvert_exporter": "python",
   "pygments_lexer": "ipython3",
   "version": "3.8.8"
  }
 },
 "nbformat": 4,
 "nbformat_minor": 5
}
